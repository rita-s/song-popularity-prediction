{
 "cells": [
  {
   "cell_type": "code",
   "execution_count": 95,
   "metadata": {},
   "outputs": [],
   "source": [
    "# Problem Domain: \n",
    "# Dataset: "
   ]
  },
  {
   "cell_type": "code",
   "execution_count": 96,
   "metadata": {},
   "outputs": [],
   "source": [
    "# Research Questions:\n",
    "\n",
    "\n",
    "# Objectives:\n"
   ]
  },
  {
   "cell_type": "code",
   "execution_count": 97,
   "metadata": {
    "pycharm": {
     "is_executing": true,
     "name": "#%%\n"
    }
   },
   "outputs": [],
   "source": [
    "# Importing dependencies\n",
    "\n",
    "import pandas as pd\n",
    "import numpy as np\n",
    "import matplotlib.pyplot as plt\n"
   ]
  },
  {
   "cell_type": "code",
   "execution_count": 98,
   "metadata": {},
   "outputs": [],
   "source": [
    "# Loading the dataset\n",
    "# tracks = pd.read_csv('.csv')\n",
    "# artists = pd.read_csv('.csv')\n",
    "# Reference: https://pandas.pydata.org/pandas-docs/stable/reference/api/pandas.read_csv.html#"
   ]
  },
  {
   "cell_type": "code",
   "execution_count": 99,
   "metadata": {},
   "outputs": [],
   "source": [
    "# Creating a detailed Dataset Description\n",
    "# print(\"Dataset Shape:\", df.shape)\n",
    "# print(\"Dataset Info:\")\n",
    "# print(df.info())\n",
    "# print(\"First Five Rows:\")\n",
    "# print(df.head())"
   ]
  },
  {
   "cell_type": "code",
   "execution_count": 100,
   "metadata": {},
   "outputs": [],
   "source": [
    "# Examine distributions\n",
    "# for col in df.columns:\n",
    "#     plt.figure(figsize=(10,4))\n",
    "#     sns.histplot(df[col], kde=True)\n",
    "#     plt.title(f'Distribution of {col}')\n",
    "#     plt.show()"
   ]
  },
  {
   "cell_type": "code",
   "execution_count": 101,
   "metadata": {},
   "outputs": [],
   "source": [
    "# Check for missing values\n",
    "# print(\"Missing Values:\")\n",
    "# print(df.isnull().sum())"
   ]
  }
 ],
 "metadata": {
  "kernelspec": {
   "display_name": "Python 3 (ipykernel)",
   "language": "python",
   "name": "python3"
  },
  "language_info": {
   "codemirror_mode": {
    "name": "ipython",
    "version": 3
   },
   "file_extension": ".py",
   "mimetype": "text/x-python",
   "name": "python",
   "nbconvert_exporter": "python",
   "pygments_lexer": "ipython3",
   "version": "3.11.5"
  }
 },
 "nbformat": 4,
 "nbformat_minor": 4
}
