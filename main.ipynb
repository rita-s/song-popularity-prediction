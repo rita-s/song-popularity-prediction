{
 "cells": [
  {
   "cell_type": "code",
   "execution_count": null,
   "outputs": [],
   "source": [
    "# Import dependencies\n",
    "\n",
    "import pandas as pd\n",
    "import numpy as np\n",
    "import matplotlib.pyplot as plt\n",
    "import seaborn as sns\n",
    "from sklearn import datasets\n",
    "from sklearn.preprocessing import StandardScaler\n",
    "from sklearn.neighbors import KNeighborsClassifier\n",
    "from sklearn.metrics import classification_report\n",
    "from sklearn.model_selection import GridSearchCV\n",
    "from sklearn.ensemble import RandomForestClassifier\n",
    "from sklearn.model_selection import train_test_split"
   ],
   "metadata": {
    "collapsed": false,
    "pycharm": {
     "name": "#%%\n"
    }
   }
  },
  {
   "cell_type": "code",
   "execution_count": null,
   "outputs": [],
   "source": [
    "# Load dataset\n",
    "df = pd.read_csv('data_moods.csv')"
   ],
   "metadata": {
    "collapsed": false,
    "pycharm": {
     "name": "#%%\n"
    }
   }
  },
  {
   "cell_type": "code",
   "execution_count": null,
   "outputs": [],
   "source": [
    "# Examine distributions\n",
    "for col in df.columns:\n",
    "    plt.figure(figsize=(10,4))\n",
    "    sns.histplot(df[col], kde=True)\n",
    "    plt.title(f'Distribution of {col}')\n",
    "    plt.show()"
   ],
   "metadata": {
    "collapsed": false,
    "pycharm": {
     "name": "#%%\n"
    }
   }
  },
  {
   "cell_type": "code",
   "execution_count": null,
   "outputs": [],
   "source": [
    "# Check balance of categories (moods)\n",
    "sns.countplot(x='mood', data=df)\n",
    "plt.title('Distribution of Moods')\n",
    "plt.show()"
   ],
   "metadata": {
    "collapsed": false,
    "pycharm": {
     "name": "#%%\n"
    }
   }
  },
  {
   "cell_type": "markdown",
   "source": [
    "# Data Cleaning"
   ],
   "metadata": {
    "collapsed": false,
    "pycharm": {
     "name": "#%% md\n"
    }
   }
  },
  {
   "cell_type": "code",
   "execution_count": null,
   "outputs": [],
   "source": [
    "# Handling missing values\n",
    "df = df.dropna()  # or df.fillna(method='ffill')\n",
    "\n",
    "# Handling outliers (example for 'tempo' feature)\n",
    "Q1 = df['tempo'].quantile(0.25)\n",
    "Q3 = df['tempo'].quantile(0.75)\n",
    "IQR = Q3 - Q1\n",
    "df = df[~((df['tempo'] < (Q1 - 1.5 * IQR)) | (df['tempo'] > (Q3 + 1.5 * IQR)))]\n"
   ],
   "metadata": {
    "collapsed": false,
    "pycharm": {
     "name": "#%%\n"
    }
   }
  },
  {
   "cell_type": "code",
   "execution_count": null,
   "outputs": [],
   "source": [
    "# Select only numeric columns for correlation\n",
    "numeric_df = df.select_dtypes(include=[np.number])\n",
    "\n",
    "# Now calculate the correlation matrix and plot the heatmap\n",
    "plt.figure(figsize=(12,10))\n",
    "sns.heatmap(numeric_df.corr(), annot=True, cmap='coolwarm')\n",
    "plt.title('Feature Correlation Matrix')\n",
    "plt.show()"
   ],
   "metadata": {
    "collapsed": false,
    "pycharm": {
     "name": "#%%\n"
    }
   }
  },
  {
   "cell_type": "code",
   "execution_count": null,
   "outputs": [],
   "source": [
    "# Select only numeric columns for scaling\n",
    "numeric_features = df.select_dtypes(include=[np.number])\n",
    "\n",
    "# If 'mood' is a non-numeric column, ensure it's not in the features\n",
    "if 'mood' in numeric_features.columns:\n",
    "    numeric_features = numeric_features.drop('mood', axis=1)\n",
    "\n",
    "# Initialize the StandardScaler\n",
    "scaler = StandardScaler()\n",
    "\n",
    "# Fit and transform the numeric features\n",
    "scaled_features = scaler.fit_transform(numeric_features)"
   ],
   "metadata": {
    "collapsed": false,
    "pycharm": {
     "name": "#%%\n"
    }
   }
  },
  {
   "cell_type": "code",
   "execution_count": null,
   "outputs": [],
   "source": [
    " # Creating a new feature combining tempo and energy\n",
    "df['tempo_energy'] = df['tempo'] * df['energy']\n",
    "df"
   ],
   "metadata": {
    "collapsed": false,
    "pycharm": {
     "name": "#%%\n"
    }
   }
  },
  {
   "cell_type": "code",
   "execution_count": null,
   "outputs": [],
   "source": [
    "# After scaling the numeric features\n",
    "feature_names = numeric_features.columns\n",
    "\n",
    "# Splitting the dataset\n",
    "X_train, X_temp, y_train, y_temp = train_test_split(scaled_features, df['mood'], test_size=0.3, random_state=42)\n",
    "X_val, X_test, y_val, y_test = train_test_split(X_temp, y_temp, test_size=0.5, random_state=42)\n",
    "\n"
   ],
   "metadata": {
    "collapsed": false,
    "pycharm": {
     "name": "#%%\n"
    }
   }
  },
  {
   "cell_type": "code",
   "execution_count": 54,
   "metadata": {},
   "outputs": [
    {
     "name": "stdout",
     "output_type": "stream",
     "text": [
      "              precision    recall  f1-score   support\n",
      "\n",
      "        Calm       0.81      0.96      0.88        23\n",
      "   Energetic       0.46      0.58      0.51        19\n",
      "       Happy       0.59      0.50      0.54        20\n",
      "         Sad       0.91      0.76      0.83        38\n",
      "\n",
      "    accuracy                           0.72       100\n",
      "   macro avg       0.69      0.70      0.69       100\n",
      "weighted avg       0.74      0.72      0.72       100\n",
      "\n"
     ]
    }
   ],
   "source": [
    "# Baseline Model (K-NN):\n",
    "\n",
    "knn = KNeighborsClassifier(n_neighbors=3)\n",
    "knn.fit(X_train, y_train)\n",
    "\n",
    "# Validate\n",
    "y_pred_val = knn.predict(X_val)\n",
    "print(classification_report(y_val, y_pred_val))\n"
   ]
  },
  {
   "cell_type": "code",
   "execution_count": 55,
   "metadata": {},
   "outputs": [
    {
     "name": "stdout",
     "output_type": "stream",
     "text": [
      "Fitting 5 folds for each of 4 candidates, totalling 20 fits\n",
      "[CV 1/5] END .....................n_neighbors=3;, score=0.734 total time=   0.0s\n",
      "[CV 2/5] END .....................n_neighbors=3;, score=0.755 total time=   0.0s\n",
      "[CV 3/5] END .....................n_neighbors=3;, score=0.713 total time=   0.0s\n",
      "[CV 4/5] END .....................n_neighbors=3;, score=0.798 total time=   0.0s\n",
      "[CV 5/5] END .....................n_neighbors=3;, score=0.806 total time=   0.0s\n",
      "[CV 1/5] END .....................n_neighbors=5;, score=0.787 total time=   0.0s\n",
      "[CV 2/5] END .....................n_neighbors=5;, score=0.777 total time=   0.0s\n",
      "[CV 3/5] END .....................n_neighbors=5;, score=0.766 total time=   0.0s\n",
      "[CV 4/5] END .....................n_neighbors=5;, score=0.809 total time=   0.0s\n",
      "[CV 5/5] END .....................n_neighbors=5;, score=0.763 total time=   0.0s\n",
      "[CV 1/5] END .....................n_neighbors=7;, score=0.830 total time=   0.0s\n",
      "[CV 2/5] END .....................n_neighbors=7;, score=0.798 total time=   0.0s\n",
      "[CV 3/5] END .....................n_neighbors=7;, score=0.777 total time=   0.0s\n",
      "[CV 4/5] END .....................n_neighbors=7;, score=0.851 total time=   0.0s\n",
      "[CV 5/5] END .....................n_neighbors=7;, score=0.828 total time=   0.0s\n",
      "[CV 1/5] END .....................n_neighbors=9;, score=0.819 total time=   0.0s\n",
      "[CV 2/5] END .....................n_neighbors=9;, score=0.798 total time=   0.0s\n",
      "[CV 3/5] END .....................n_neighbors=9;, score=0.777 total time=   0.0s\n",
      "[CV 4/5] END .....................n_neighbors=9;, score=0.851 total time=   0.0s\n",
      "[CV 5/5] END .....................n_neighbors=9;, score=0.796 total time=   0.0s\n",
      "{'n_neighbors': 7}\n"
     ]
    }
   ],
   "source": [
    "param_grid = {'n_neighbors': [3, 5, 7, 9]}\n",
    "grid = GridSearchCV(KNeighborsClassifier(), param_grid, refit=True, verbose=3)\n",
    "grid.fit(X_train, y_train)\n",
    "print(grid.best_params_)\n"
   ]
  },
  {
   "cell_type": "code",
   "execution_count": 56,
   "metadata": {},
   "outputs": [
    {
     "data": {
      "image/png": "[encoded data removed]",
      "text/plain": [
       "<Figure size 640x480 with 1 Axes>"
      ]
     },
     "metadata": {},
     "output_type": "display_data"
    }
   ],
   "source": [
    "# Visualisation (Random Forest)\n",
    "\n",
    "rf = RandomForestClassifier()\n",
    "rf.fit(X_train, y_train)\n",
    "\n",
    "feat_importances = pd.Series(rf.feature_importances_, index=feature_names)\n",
    "feat_importances.nlargest(10).plot(kind='barh')\n",
    "plt.title('Feature Importances')\n",
    "plt.show()"
   ]
  },
  {
   "cell_type": "code",
   "execution_count": null,
   "metadata": {},
   "outputs": [],
   "source": []
  }
 ],
 "metadata": {
  "kernelspec": {
   "display_name": "Python 3 (ipykernel)",
   "language": "python",
   "name": "python3"
  },
  "language_info": {
   "codemirror_mode": {
    "name": "ipython",
    "version": 3
   },
   "file_extension": ".py",
   "mimetype": "text/x-python",
   "name": "python",
   "nbconvert_exporter": "python",
   "pygments_lexer": "ipython3",
   "version": "3.11.5"
  }
 },
 "nbformat": 4,
 "nbformat_minor": 4
}